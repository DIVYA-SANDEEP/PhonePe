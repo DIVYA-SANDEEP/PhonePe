{
 "cells": [
  {
   "cell_type": "code",
   "execution_count": 1,
   "metadata": {},
   "outputs": [],
   "source": [
    "import pandas as pd\n",
    "import json\n",
    "import os\n",
    "import mysql.connector"
   ]
  },
  {
   "cell_type": "code",
   "execution_count": null,
   "metadata": {},
   "outputs": [
    {
     "data": {
      "text/plain": [
       "<git.repo.base.Repo 'F:\\\\Capstone\\\\Phonepe\\\\pulse\\\\.git'>"
      ]
     },
     "execution_count": 2,
     "metadata": {},
     "output_type": "execute_result"
    }
   ],
   "source": [
    "#os.environ[\"GIT_PYTHON_REFRESH\"] = \"quiet\"\n",
    "#from git.repo.base import Repo\n",
    "#Repo.clone_from(\"https://github.com/PhonePe/pulse.git\", \"F:/Capstone/Phonepe/pulse\")"
   ]
  },
  {
   "cell_type": "code",
   "execution_count": null,
   "metadata": {},
   "outputs": [],
   "source": [
    "path=\"F:/Capstone/Phonepe/pulse/data/aggregated/transaction/country/india/state/\"\n",
    "agg_trans_list = os.listdir(path)\n",
    "\n",
    "Agg_Trans = {'State': [], 'Year': [], 'Quarter': [], 'Transaction_type': [], 'Transaction_count': [],\n",
    "            'Transaction_amount': []}\n",
    "for state in agg_trans_list:\n",
    "    p_state = path + state + \"/\"\n",
    "    agg_year_list = os.listdir(p_state)\n",
    "\n",
    "    for year in agg_year_list:\n",
    "        p_year = p_state + year + \"/\"\n",
    "        agg_file_list = os.listdir(p_year)\n",
    "\n",
    "        for file in agg_file_list:\n",
    "            p_file = p_year + file\n",
    "            data = open(p_file, 'r')\n",
    "            A = json.load(data)\n",
    "\n",
    "            for i in A['data']['transactionData']:\n",
    "                Name   = i['name']\n",
    "                Count  = i['paymentInstruments'][0]['count']\n",
    "                Amount = i['paymentInstruments'][0]['amount']\n",
    "                Agg_Trans['Transaction_type'].append(Name)\n",
    "                Agg_Trans['Transaction_count'].append(Count)\n",
    "                Agg_Trans['Transaction_amount'].append(Amount)\n",
    "                Agg_Trans['State'].append(state)\n",
    "                Agg_Trans['Year'].append(year)\n",
    "                Agg_Trans['Quarter'].append(int(file.strip('.json')))\n",
    "\n",
    "df_Agg_Trans=pd.DataFrame(Agg_Trans)\n",
    "\n",
    "#df_Agg_Trans"
   ]
  },
  {
   "cell_type": "code",
   "execution_count": null,
   "metadata": {},
   "outputs": [],
   "source": [
    "path1=\"F:/Capstone/Phonepe/pulse/data/aggregated/user/country/india/state/\"\n",
    "agg_user_list = os.listdir(path1)\n",
    "\n",
    "Agg_User = {'State': [], 'Year': [], 'Quarter': [], 'Brands': [], 'Count': [],\n",
    "            'Percentage': []}\n",
    "for state in agg_user_list:\n",
    "    p_state = path1 + state + \"/\"\n",
    "    agg_year_list = os.listdir(p_state)\n",
    "\n",
    "    for year in agg_year_list:\n",
    "        p_year = p_state + year + \"/\"\n",
    "        agg_file_list = os.listdir(p_year)\n",
    "\n",
    "        for file in agg_file_list:\n",
    "            p_file = p_year + file\n",
    "            data = open(p_file, 'r')\n",
    "            B = json.load(data)\n",
    "            try:\n",
    "              for i in B['data']['usersByDevice']:\n",
    "                  brand_name = i['brand']\n",
    "                  counts     = i['count']\n",
    "                  percents   = i['percentage']\n",
    "                  Agg_User['Brands'].append(brand_name)\n",
    "                  Agg_User['Count'].append(counts)\n",
    "                  Agg_User['Percentage'].append(percents)\n",
    "                  Agg_User['State'].append(state)\n",
    "                  Agg_User['Year'].append(year)\n",
    "                  Agg_User['Quarter'].append(int(file.strip('.json')))\n",
    "            except:\n",
    "              pass\n",
    "\n",
    "df_Agg_User =pd.DataFrame(Agg_User)\n",
    "\n",
    "#df_Agg_User\n"
   ]
  },
  {
   "cell_type": "code",
   "execution_count": null,
   "metadata": {},
   "outputs": [],
   "source": [
    "path2=\"F:/Capstone/Phonepe/pulse/data/map/transaction/hover/country/india/state/\"\n",
    "map_trans_list=os.listdir(path2)\n",
    "\n",
    "Map_Trans={'State': [], 'Year': [], 'Quarter': [], 'District': [], 'Count': [],\n",
    "            'Amount': []}\n",
    "for state in map_trans_list:\n",
    "    p_state = path2 + state + \"/\"\n",
    "    map_year_list = os.listdir(p_state)\n",
    "\n",
    "    for year in map_year_list:\n",
    "        p_year = p_state + year + \"/\"\n",
    "        map_file_list = os.listdir(p_year)\n",
    "\n",
    "        for file in map_file_list:\n",
    "            p_file = p_year + file\n",
    "            data = open(p_file, 'r')\n",
    "            C = json.load(data)\n",
    "\n",
    "            for i in C['data']['hoverDataList']:\n",
    "                district  = i['name']\n",
    "                count     = i['metric'][0]['count']\n",
    "                amount    = i['metric'][0]['amount']\n",
    "                Map_Trans['District'].append(district)\n",
    "                Map_Trans['Count'].append(count)\n",
    "                Map_Trans['Amount'].append(amount)\n",
    "                Map_Trans['State'].append(state)\n",
    "                Map_Trans['Year'].append(year)\n",
    "                Map_Trans['Quarter'].append(int(file.strip('.json')))\n",
    "\n",
    "df_Map_Trans=pd.DataFrame(Map_Trans)\n",
    "\n",
    "#df_Map_Trans"
   ]
  },
  {
   "cell_type": "code",
   "execution_count": null,
   "metadata": {},
   "outputs": [],
   "source": [
    "path3=\"F:/Capstone/Phonepe/pulse/data/map/user/hover/country/india/state/\"\n",
    "map_user_list=os.listdir(path3)\n",
    "\n",
    "Map_User={'State':[],'Year':[],'Quarter':[],'District': [],\n",
    "            'RegisteredUser': [], 'AppOpens': []}\n",
    "for state in map_user_list:\n",
    "    p_state = path3 + state + \"/\"\n",
    "    map_year_list = os.listdir(p_state)\n",
    "\n",
    "    for year in map_year_list:\n",
    "        p_year = p_state + year + \"/\"\n",
    "        map_file_list = os.listdir(p_year)\n",
    "\n",
    "        for file in map_file_list:\n",
    "            p_file = p_year + file\n",
    "            data = open(p_file, 'r')\n",
    "            D = json.load(data)\n",
    "          \n",
    "            for i in D['data']['hoverData'].items():\n",
    "                district       = i[0]\n",
    "                registeredusers= i[1]['registeredUsers']\n",
    "                appOpens       = i[1]['appOpens']\n",
    "                Map_User['District'].append(district)\n",
    "                Map_User['RegisteredUser'].append(registeredusers)\n",
    "                Map_User['AppOpens'].append(appOpens)\n",
    "                Map_User['State'].append(state)\n",
    "                Map_User['Year'].append(year)\n",
    "                Map_User['Quarter'].append(int(file.strip('.json')))\n",
    "\n",
    "df_Map_User=pd.DataFrame(Map_User)\n",
    "\n",
    "#df_Map_User\n"
   ]
  },
  {
   "cell_type": "code",
   "execution_count": null,
   "metadata": {},
   "outputs": [],
   "source": [
    "path4=\"F:/Capstone/Phonepe/pulse/data/top/transaction/country/india/state/\"\n",
    "top_trans_list=os.listdir(path4)\n",
    "\n",
    "Top_Trans = {'State': [], 'Year': [], 'Quarter': [], 'Pincode': [], 'Transaction_count': [],\n",
    "            'Transaction_amount': []}\n",
    "for state in top_trans_list:\n",
    "    p_state = path4 + state + \"/\"\n",
    "    top_year_list = os.listdir(p_state)\n",
    "\n",
    "    for year in top_year_list:\n",
    "        p_year = p_state + year + \"/\"\n",
    "        top_file_list = os.listdir(p_year)\n",
    "\n",
    "        for file in top_file_list:\n",
    "            p_file = p_year + file\n",
    "            data = open(p_file, 'r')\n",
    "            E = json.load(data)\n",
    "\n",
    "            for i in E['data']['pincodes']:\n",
    "                name = i['entityName']\n",
    "                count = i['metric']['count']\n",
    "                amount = i['metric']['amount']\n",
    "                Top_Trans['Pincode'].append(name)\n",
    "                Top_Trans['Transaction_count'].append(count)\n",
    "                Top_Trans['Transaction_amount'].append(amount)\n",
    "                Top_Trans['State'].append(state)\n",
    "                Top_Trans['Year'].append(year)\n",
    "                Top_Trans['Quarter'].append(int(file.strip('.json')))\n",
    "                \n",
    "df_Top_Trans=pd.DataFrame(Top_Trans)\n",
    "\n",
    "#df_Top_Trans"
   ]
  },
  {
   "cell_type": "code",
   "execution_count": null,
   "metadata": {},
   "outputs": [],
   "source": [
    "path5=\"F:/Capstone/Phonepe/pulse/data/top/user/country/india/state/\"\n",
    "top_user_list=os.listdir(path5)\n",
    "\n",
    "Top_User = {'State': [], 'Year': [], 'Quarter': [], 'Pincode': [],\n",
    "            'RegisteredUsers': []}\n",
    "\n",
    "for state in top_user_list:\n",
    "    p_state = path5 + state + \"/\"\n",
    "    top_year_list = os.listdir(p_state)\n",
    "\n",
    "    for year in top_year_list:                    \n",
    "        p_year = p_state + year + \"/\"\n",
    "        top_file_list = os.listdir(p_year)\n",
    "\n",
    "        for file in top_file_list:\n",
    "            p_file = p_year + file\n",
    "            data = open(p_file, 'r')\n",
    "            F = json.load(data)\n",
    "\n",
    "            for i in F['data']['pincodes']:\n",
    "                name = i['name']\n",
    "                registeredUsers = i['registeredUsers']\n",
    "                Top_User['Pincode'].append(name)\n",
    "                Top_User['RegisteredUsers'].append(registeredUsers)\n",
    "                Top_User['State'].append(state)\n",
    "                Top_User['Year'].append(year)\n",
    "                Top_User['Quarter'].append(int(file.strip('.json')))\n",
    "                \n",
    "df_Top_User = pd.DataFrame(Top_User)\n",
    "\n",
    "#df_Top_User"
   ]
  },
  {
   "cell_type": "code",
   "execution_count": null,
   "metadata": {},
   "outputs": [],
   "source": [
    "df_Agg_Trans.to_csv('Agg_Trans.csv',index=False)\n",
    "df_Agg_User.to_csv('Agg_User.csv',index=False)\n",
    "df_Map_Trans.to_csv('Map_Trans.csv',index=False)\n",
    "df_Map_User.to_csv('Map_User.csv',index=False)\n",
    "df_Top_Trans.to_csv('Top_Trans.csv',index=False)\n",
    "df_Top_User.to_csv('Top_User.csv',index=False)"
   ]
  },
  {
   "cell_type": "code",
   "execution_count": null,
   "metadata": {},
   "outputs": [
    {
     "name": "stdout",
     "output_type": "stream",
     "text": [
      "<mysql.connector.connection_cext.CMySQLConnection object at 0x0000021B5C721F70>\n"
     ]
    }
   ],
   "source": [
    "mydb = mysql.connector.connect(\n",
    "  host=\"localhost\",\n",
    "  user=\"root\",\n",
    "  password=\"\",\n",
    " )\n",
    "print(mydb)\n",
    "mycursor = mydb.cursor(buffered=True)\n",
    "#mycursor.execute('CREATE DATABASE Phonepe')\n",
    "mycursor.execute(\"USE Phonepe\")\n"
   ]
  },
  {
   "cell_type": "code",
   "execution_count": null,
   "metadata": {},
   "outputs": [],
   "source": [
    "# mycursor.execute(\"SHOW DATABASES\")\n",
    "# for x in mycursor:\n",
    "#   print(x)\n"
   ]
  },
  {
   "cell_type": "code",
   "execution_count": null,
   "metadata": {},
   "outputs": [],
   "source": [
    "mycursor.execute('''CREATE TABLE agg_Transaction(State varchar(100), \n",
    "                                        Year int, \n",
    "                                        Quarter int, \n",
    "                                        Transaction_type varchar(100), \n",
    "                                        Transaction_count int, \n",
    "                                        Transaction_amount double)''')\n",
    "\n",
    "for i,row in df_Agg_Trans.iterrows():\n",
    "    insert_values = \"INSERT INTO agg_Transaction VALUES (%s,%s,%s,%s,%s,%s)\"\n",
    "    mycursor.execute(insert_values, tuple(row))\n",
    "    mydb.commit()"
   ]
  },
  {
   "cell_type": "code",
   "execution_count": null,
   "metadata": {},
   "outputs": [],
   "source": [
    "mycursor.execute('''CREATE TABLE agg_user (State varchar(100), \n",
    "                                        Year int,\n",
    "                                        Quarter int, \n",
    "                                        Brands varchar(100), \n",
    "                                        Count int, \n",
    "                                        Percentage double)''')\n",
    "\n",
    "for i,row in df_Agg_User.iterrows():\n",
    "    insert_values = \"INSERT INTO agg_user VALUES (%s,%s,%s,%s,%s,%s)\"\n",
    "    mycursor.execute(insert_values, tuple(row))\n",
    "    mydb.commit()"
   ]
  },
  {
   "cell_type": "code",
   "execution_count": null,
   "metadata": {},
   "outputs": [],
   "source": [
    "mycursor.execute('''CREATE TABLE map_trans (State varchar(100), \n",
    "                                        Year int,\n",
    "                                        Quarter int,\n",
    "                                        District varchar(100),\n",
    "                                        Count int,\n",
    "                                        Amount double)''')\n",
    "\n",
    "for i,row in df_Map_Trans.iterrows():\n",
    "    insert_values= \"INSERT INTO map_trans VALUES (%s,%s,%s,%s,%s,%s)\"\n",
    "    mycursor.execute(insert_values, tuple(row))\n",
    "    mydb.commit()"
   ]
  },
  {
   "cell_type": "code",
   "execution_count": null,
   "metadata": {},
   "outputs": [],
   "source": [
    "mycursor.execute('''CREATE TABLE map_user (State varchar(100), \n",
    "                                        Year int,\n",
    "                                        Quarter int,\n",
    "                                        District varchar(100),\n",
    "                                        Registered_user int,\n",
    "                                        App_opens int)''')\n",
    "\n",
    "for i,row in df_Map_User.iterrows():\n",
    "    insert_values= \"INSERT INTO map_user VALUES (%s,%s,%s,%s,%s,%s)\"\n",
    "    mycursor.execute(insert_values, tuple(row))\n",
    "    mydb.commit()\n"
   ]
  },
  {
   "cell_type": "code",
   "execution_count": null,
   "metadata": {},
   "outputs": [],
   "source": [
    "mycursor.execute('''CREATE TABLE top_trans (State varchar(100),\n",
    "                                        Year int, \n",
    "                                        Quarter int, \n",
    "                                        Pincode int, \n",
    "                                        Transaction_count int, \n",
    "                                        Transaction_amount double)''')\n",
    "\n",
    "for i,row in df_Top_Trans.iterrows():\n",
    "    insert_values = \"INSERT INTO top_trans VALUES (%s,%s,%s,%s,%s,%s)\"\n",
    "    mycursor.execute(insert_values, tuple(row))\n",
    "    mydb.commit()"
   ]
  },
  {
   "cell_type": "code",
   "execution_count": null,
   "metadata": {},
   "outputs": [],
   "source": [
    "mycursor.execute('''CREATE TABLE top_user (State varchar(100),\n",
    "                                        Year int, \n",
    "                                        Quarter int, \n",
    "                                        Pincode int, \n",
    "                                        RegisteredUsers int)''')\n",
    "\n",
    "for i,row in df_Top_User.iterrows():\n",
    "    insert_values = \"INSERT INTO top_user VALUES (%s,%s,%s,%s,%s)\"\n",
    "    mycursor.execute(insert_values, tuple(row))\n",
    "    mydb.commit()"
   ]
  },
  {
   "cell_type": "code",
   "execution_count": null,
   "metadata": {},
   "outputs": [],
   "source": [
    "mycursor.execute(\"show tables\")\n",
    "mycursor.fetchall()"
   ]
  }
 ],
 "metadata": {
  "kernelspec": {
   "display_name": ".venv",
   "language": "python",
   "name": "python3"
  },
  "language_info": {
   "codemirror_mode": {
    "name": "ipython",
    "version": 3
   },
   "file_extension": ".py",
   "mimetype": "text/x-python",
   "name": "python",
   "nbconvert_exporter": "python",
   "pygments_lexer": "ipython3",
   "version": "3.12.0"
  }
 },
 "nbformat": 4,
 "nbformat_minor": 2
}
